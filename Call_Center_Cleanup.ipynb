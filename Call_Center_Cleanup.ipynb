{
 "cells": [
  {
   "cell_type": "markdown",
   "id": "331a1c4f",
   "metadata": {},
   "source": [
    "# Call Center Cleanup\n",
    "\n",
    "For this assignment, we will be working with call center data. You can start working on the assignment after the first lesson on Exploratory Data Analysis. Make sure to read the whole assignment before starting anything! As you code along in the Jupyter notebook, you are asked to make note of the results of your analysis. Do so by clicking on the results box and adding your notes beside each question.\n",
    "\n",
    "## Business Issue and Understanding\n",
    "\n",
    "You are working for a company that has two call centers: the North Call Center and the South Call Center. The company is looking to possibly hire five additional reps to enhance customer experience. Your task is to explore how efficient the current reps are in each branch to determine which branch would benefit from additional assistance.\n",
    "\n",
    "### How the Call Center Works\n",
    "\n",
    "Call center representatives are assigned queues. When calls are assigned to a queue, the call is assigned to the next person in line in the queue. After a call is assigned to a representative, the amount of time between assignment and the call starting is divided into busy minutes and not ready minutes. If the call is incoming and a customer is waiting on the phone for a rep, the time is split into three categories: busy minutes, not ready minutes, and incoming call wait time. Once the rep has the customer on the phone, there might be during call wait time, where the call is put on hold while the rep gets an answer for the customer.\n",
    "\n",
    "### Notes about the Dataset\n",
    "\n",
    "If you haven't worked in a call center before, these notes might help you throughout your analysis.\n",
    "\n",
    "* The call purpose is tagged for each call.\n",
    "* The time of the call is tagged in 1 hour blocks starting at 9:00 AM and ending at 5:00 PM.\n",
    "* Calls are tagged as incoming or outgoing.\n",
    "* Reps are assigned to queues. When the reps are working, they take calls in the order of their queue.\n",
    "* A call that is dropped due to technical error or missed by the center because they have reached maximum capacity is a lost call.\n",
    "* An abandoned call is when the customer hangs up because they have been waiting for too long.\n",
    "* Busy Minutes: the amount of time after a call comes in or needs to go out where the assigned rep is not available because they are busy with other customers.\n",
    "* Not Ready Minutes: the amount of time after a call comes in or needs to go out where the assigned rep is not available because they are not ready (for example, getting water).\n",
    "* Incoming Wait Time - amount of time after assigned rep is available to take the call customer waits for representative to pick up a call. This is tracked in seconds.\n",
    "* During Call Wait Time - amount of time during call that customer has to wait for representative\n",
    "\n",
    "## Getting Started\n",
    "\n",
    "You have two CSVs at your disposal, `NorthCallCenter.csv` and `SouthCallCenter.csv`. Import the appropriate libraries and create two dataframes, one called `north_df` and one called `south_df`."
   ]
  },
  {
   "cell_type": "code",
   "execution_count": 3,
   "id": "f362436b",
   "metadata": {},
   "outputs": [],
   "source": [
    "# Import the appropriate libraries with aliases\n",
    "import pandas as pd\n",
    "# Create two new dataframes\n",
    "north_df = pd.read_csv('NorthCallCenter.csv')\n",
    "south_df = pd.read_csv('SouthCallCenter.csv')"
   ]
  },
  {
   "cell_type": "markdown",
   "id": "37f77cd4",
   "metadata": {},
   "source": [
    "<span style=\"background-color:orangered; color:orangered;\">- - - - - - - - - - - - - - - - - - - - - - - - - - - - - - - - - - - - - - - - - - - - - - - - - - - - - - - - - - - - - - - - - - - - - - - - - - - - - - - - - - - - - - - - -</span>"
   ]
  },
  {
   "cell_type": "markdown",
   "id": "b4d3484b",
   "metadata": {},
   "source": [
    "## Exploratory Data Analysis\n",
    "\n",
    "Time to do some EDA! In the process of learning more about the two datasets, answer the following questions. In the code blocks below enter the code used to solve the question.  At the end of the section record your answers by double clicking where asked."
   ]
  },
  {
   "cell_type": "markdown",
   "id": "76898991",
   "metadata": {},
   "source": [
    "#### EDA Question 1A:  How many reps are in the North branch?  "
   ]
  },
  {
   "cell_type": "code",
   "execution_count": 4,
   "id": "ce3eb5e4",
   "metadata": {},
   "outputs": [
    {
     "name": "stdout",
     "output_type": "stream",
     "text": [
      "There are 9 reps in the North Branch\n"
     ]
    }
   ],
   "source": [
    "#Code Used:\n",
    "column_name = 'Rep ID'\n",
    "north_count = north_df[column_name].nunique()\n",
    "print(f\"There are {north_count} reps in the North Branch\")"
   ]
  },
  {
   "cell_type": "markdown",
   "id": "2a9b34d8",
   "metadata": {},
   "source": [
    "#### EDA Question 1B:  How many reps are in the South branch?  "
   ]
  },
  {
   "cell_type": "code",
   "execution_count": 17,
   "id": "3c715bbf",
   "metadata": {},
   "outputs": [
    {
     "name": "stdout",
     "output_type": "stream",
     "text": [
      "There are 11 reps in the South Branch\n"
     ]
    }
   ],
   "source": [
    "#Code Used:\n",
    "south_count = south_df['Rep ID'].nunique()\n",
    "print(f\"There are {south_count} reps in the South Branch\")"
   ]
  },
  {
   "cell_type": "markdown",
   "id": "a872f045",
   "metadata": {},
   "source": [
    "#### EDA Question 2A:  What is the average busy minutes, not ready minutes, incoming wait time, and during call wait time for the North branch? "
   ]
  },
  {
   "cell_type": "code",
   "execution_count": 18,
   "id": "3759305f",
   "metadata": {},
   "outputs": [
    {
     "name": "stdout",
     "output_type": "stream",
     "text": [
      "Busy Minutes             9.987755\n",
      "Not Ready Minutes        1.914286\n",
      "Incoming Wait Time       3.048780\n",
      "During Call Wait Time    2.967347\n",
      "dtype: float64\n"
     ]
    }
   ],
   "source": [
    "#Code Used:\n",
    "Average_North = north_df[['Busy Minutes', 'Not Ready Minutes', 'Incoming Wait Time', 'During Call Wait Time' ]].mean()\n",
    "\n",
    "print(Average_North)\n"
   ]
  },
  {
   "cell_type": "markdown",
   "id": "3851cf3e",
   "metadata": {},
   "source": [
    "#### EDA Question 2B:  What is the average busy minutes, not ready minutes, incoming wait time, and during call wait time for the South branch? "
   ]
  },
  {
   "cell_type": "code",
   "execution_count": 19,
   "id": "a77ec152",
   "metadata": {},
   "outputs": [
    {
     "name": "stdout",
     "output_type": "stream",
     "text": [
      "Busy Minutes             10.054140\n",
      "Not Ready Minutes         1.910828\n",
      "Incoming Wait Time        3.000000\n",
      "During Call Wait Time     3.076433\n",
      "dtype: float64\n"
     ]
    }
   ],
   "source": [
    "#Code Used:\n",
    "Average_South = south_df[['Busy Minutes', 'Not Ready Minutes', 'Incoming Wait Time', 'During Call Wait Time' ]].mean()\n",
    "\n",
    "print(Average_South)"
   ]
  },
  {
   "cell_type": "markdown",
   "id": "75915553",
   "metadata": {},
   "source": [
    "#### EDA Question 3:  What is the number of calls taken for each time block(Both North and South combined)?"
   ]
  },
  {
   "cell_type": "code",
   "execution_count": 20,
   "id": "49566936",
   "metadata": {},
   "outputs": [
    {
     "name": "stdout",
     "output_type": "stream",
     "text": [
      "9:00 AM      10\n",
      "1:00 PM      40\n",
      "5:00 PM      43\n",
      "4:00 PM      53\n",
      "11:00 AM     56\n",
      "2:00 PM      65\n",
      "3:00 PM      73\n",
      "10:00 AM     99\n",
      "12:00 PM    120\n",
      "Name: Time Block, dtype: int64\n"
     ]
    }
   ],
   "source": [
    "# Code Used:\n",
    "both_df = pd.concat([north_df, south_df])\n",
    "time_block = both_df['Time Block'].value_counts()\n",
    "sort = time_block.sort_values(ascending=True)\n",
    "print(sort)"
   ]
  },
  {
   "cell_type": "markdown",
   "id": "40b1fd3f",
   "metadata": {},
   "source": [
    "##### Record your answers for the EDA section by double clicking here:\n",
    "- 1a) Reps in the North Branch = 9\n",
    "- 1b) Reps in the South Branch = 11\n",
    "\n",
    "\n",
    "- 2a) North Branch, (round to the nearest hundredth):\n",
    "> - Busy Minutes = 9.987755\n",
    "> - Not Ready Minutes = 1.914286\n",
    "> - Incoming Wait Time = 3.048780\n",
    "> - During Call Wait Time = 2.967347\n",
    "- 2b) South Branch, (round to the nearest hundredth):\n",
    "> - Busy Minutes = 10.054140\n",
    "> - Not Ready Minutes = 1.910828\n",
    "> - Incoming Wait Time = 3.000000\n",
    "> - During Call Wait Time = 3.076433\n",
    "- 3) Total Calls taken for all branches per time block:\n",
    "> - 9:00AM   = 10\n",
    "> - 10:00AM  = 99\n",
    "> - 11:00AM  = 56\n",
    "> - 12:00PM  = 120\n",
    "> - 1:00PM   = 40\n",
    "> - 2:00PM   = 65\n",
    "> - 3:00PM   = 73\n",
    "> - 4:00PM   = 53\n",
    "> - 5:00PM   = 43\n",
    "\n"
   ]
  },
  {
   "cell_type": "markdown",
   "id": "446048d3",
   "metadata": {},
   "source": [
    "<span style=\"background-color:orangered; color:orangered;\">- - - - - - - - - - - - - - - - - - - - - - - - - - - - - - - - - - - - - - - - - - - - - - - - - - - - - - - - - - - - - - - - - - - - - - - - - - - - - - - - - - - - - - - - -</span>"
   ]
  },
  {
   "cell_type": "markdown",
   "id": "366bfb19",
   "metadata": {},
   "source": [
    "## Cleaning Your Data \n",
    "Now you need to clean up the datasets. When cleaning the datasets, you may find that there isn't dirty data to clean. That is okay! Some questions you need to answer about the data sets.\n",
    "* Add additional code blocks as needed to show how you came to your conclusions. Add comments in your code blocks to help others understand your thinking. "
   ]
  },
  {
   "cell_type": "markdown",
   "id": "c3564d69",
   "metadata": {},
   "source": [
    "#### Cleaning Question 1:  Is there any missing data and if yes explain what you would do with the missing data and why?\n",
    "##### Record your answer by double clicking here:\n",
    "> Your Answer: Yes, from the North data there's 163 Null values from  Incoming Wait Time column and from the South there's 188 Null values from the Incoming Wait Time column. I would delete the null values and replace them with 0 instead."
   ]
  },
  {
   "cell_type": "code",
   "execution_count": 21,
   "id": "b77fb574",
   "metadata": {},
   "outputs": [],
   "source": [
    "Code Used\n",
    "north_df.fillna(0, inplace=True)\n",
    "south_df.fillna(0, inplace=True)\n",
    "#north_df.isnull().sum()\n",
    "south_df.isnull().sum()\n",
    "# Add Additional Cells as needed.\n",
    "#Average handle time: This could provide insight into how long representatives spend on each call.\n",
    "#Reason for lost sales: If lost sales are a focus of analysis, knowing why they were lost could be helpful.\n",
    "#Number of reps available: If there are multiple representatives, knowing how many are available at any given time could be useful.\n",
    "#Customer satisfaction ratings: If available, knowing how satisfied customers are with their interactions could help gauge the success of the call center."
   ]
  },
  {
   "cell_type": "markdown",
   "id": "dc47f020",
   "metadata": {},
   "source": [
    "#### Cleaning Question 2:  In the North data set, there are two separate \"YES\" values for a sale. Why and how did you rectify the issue?\n",
    "##### Record your answer by double clicking here:\n",
    "> Your Answer: I found out that one YES has a space after it so I replaced that YES with nonspaced Yes."
   ]
  },
  {
   "cell_type": "code",
   "execution_count": 5,
   "id": "4e0fbad6",
   "metadata": {},
   "outputs": [],
   "source": [
    "#Code Used\n",
    "# Add Additional Cells as needed.\n",
    "north_df[north_df['Sale'].str.contains('YES ')]\n",
    "north_df['Sale'].replace('YES ', 'YES', inplace = True)"
   ]
  },
  {
   "cell_type": "markdown",
   "id": "715f375a",
   "metadata": {},
   "source": [
    "#### Cleaning Question 3:  Are there duplicates in the two data sets? If there are, how did you handle them?\n",
    "##### Record your answer by double clicking here:\n",
    "> Your Answer: Based on two codes that I used to find the duplicates, it seems that there are no duplicates in these two data"
   ]
  },
  {
   "cell_type": "code",
   "execution_count": 23,
   "id": "2323673a",
   "metadata": {},
   "outputs": [
    {
     "name": "stdout",
     "output_type": "stream",
     "text": [
      "[]\n"
     ]
    }
   ],
   "source": [
    "#Code Used\n",
    "#duplicates = north_df[north_df.duplicated()]\n",
    "#print(duplicates)\n",
    "# Add Additional Cells as needed.\n",
    "from collections import Counter\n",
    "counter = Counter(south_df)\n",
    "duplicates = [item for item, count in counter.items() if count > 1]\n",
    "print(duplicates)"
   ]
  },
  {
   "cell_type": "markdown",
   "id": "8ffaa865",
   "metadata": {},
   "source": [
    "#### Cleaning Question 4:  Is any of the data in the two data sets unnecessary? If yes, how did you handle it?\n",
    "##### Record your answer by double clicking here:\n",
    "> Your Answer: Sale: If this column refers to successful sales, it may not be important for some analyses, particularly if the focus is on abandoned calls or lost sales. However, in real world I would need to consult with the business owners to make a desicion in removing this data."
   ]
  },
  {
   "cell_type": "code",
   "execution_count": 24,
   "id": "78b45e70",
   "metadata": {},
   "outputs": [
    {
     "name": "stdout",
     "output_type": "stream",
     "text": [
      "     Unnamed: 0 Branch     Call Purpose Time Block Incoming or Outgoing Queue  \\\n",
      "0             0  South    Sales Support   10:00 AM             Incoming     D   \n",
      "1             1  South    Sales Support   10:00 AM             Incoming     C   \n",
      "2             2  South    Sales Support   10:00 AM             Incoming     C   \n",
      "3             3  South    Sales Support   10:00 AM             Incoming     C   \n",
      "4             4  South    Sales Support   12:00 PM             Incoming     C   \n",
      "..          ...    ...              ...        ...                  ...   ...   \n",
      "309         309  South  Product Support    5:00 PM             Outgoing     D   \n",
      "310         310  South  Product Support    5:00 PM             Outgoing     C   \n",
      "311         311  South  Product Support    5:00 PM             Outgoing     C   \n",
      "312         312  South  Product Support    5:00 PM             Outgoing     C   \n",
      "313         313  South  Product Support    5:00 PM             Outgoing     D   \n",
      "\n",
      "     Rep ID Sale  Lost Call  Abandoned  Busy Minutes  Not Ready Minutes  \\\n",
      "0      Kate   NO          0          0             9                  1   \n",
      "1      Eric   NO          0          0             8                  2   \n",
      "2     Susan   NO          0          0            10                  2   \n",
      "3     Alice   NO          0          0            12                  1   \n",
      "4     Sandy   NO          0          0             8                  3   \n",
      "..      ...  ...        ...        ...           ...                ...   \n",
      "309   Helga   NO          0          0            10                  3   \n",
      "310   Susan   NO          0          0            12                  3   \n",
      "311   Sandy   NO          0          0             9                  3   \n",
      "312    Eric   NO          0          0            10                  1   \n",
      "313  George   NO          0          0            10                  2   \n",
      "\n",
      "     Incoming Wait Time  During Call Wait Time  Calls  \n",
      "0                   1.0                      2      1  \n",
      "1                   1.0                      4      1  \n",
      "2                   1.0                      4      1  \n",
      "3                   1.0                      3      1  \n",
      "4                   1.0                      3      1  \n",
      "..                  ...                    ...    ...  \n",
      "309                 NaN                      4      1  \n",
      "310                 NaN                      4      1  \n",
      "311                 NaN                      4      1  \n",
      "312                 NaN                      2      1  \n",
      "313                 NaN                      3      1  \n",
      "\n",
      "[314 rows x 15 columns]\n"
     ]
    }
   ],
   "source": [
    "#Code Used\n",
    "print(south_df)\n",
    "# Add Additional Cells as needed."
   ]
  },
  {
   "cell_type": "markdown",
   "id": "f67d89ab",
   "metadata": {},
   "source": [
    "<span style=\"background-color:orangered; color:orangered;\">- - - - - - - - - - - - - - - - - - - - - - - - - - - - - - - - - - - - - - - - - - - - - - - - - - - - - - - - - - - - - - - - - - - - - - - - - - - - - - - - - - - - - - - - -</span>"
   ]
  },
  {
   "cell_type": "markdown",
   "id": "73342a9a",
   "metadata": {},
   "source": [
    "## Data Manipulation\n",
    "Before you begin answering any questions, combine the two datasets together to create a third dataframe called df. You can use this third dataframe to compare the two call centers to company-wide trends.\n",
    "* Add additional code blocks as needed to show how you came to your conclusions. Add comments in your code blocks to help others understand your thinking. Record your answer by double clicking the below cell."
   ]
  },
  {
   "cell_type": "code",
   "execution_count": 6,
   "id": "e9705c34",
   "metadata": {},
   "outputs": [
    {
     "name": "stdout",
     "output_type": "stream",
     "text": [
      "(559, 15)\n",
      "(245, 15)\n",
      "(314, 15)\n"
     ]
    }
   ],
   "source": [
    "# Create dataframe for the entire company named df\n",
    "df = pd.concat([north_df, south_df])\n",
    "print(df.shape)\n",
    "print(north_df.shape)\n",
    "print(south_df.shape)"
   ]
  },
  {
   "cell_type": "markdown",
   "id": "7e87dfd1",
   "metadata": {},
   "source": [
    "#### Manipulation Question 1:  Group by Rep ID and sum the resulting structure. Sort by calls to determine which rep in each branch has the highest number of calls.\n",
    "\n",
    "##### Record your answer by double clicking here:\n",
    "Rep with the hightest number of calls and their total calls:\n",
    "- North Branch = 37\n",
    "- South Branch = 35\n"
   ]
  },
  {
   "cell_type": "code",
   "execution_count": 26,
   "id": "3953f09a",
   "metadata": {
    "scrolled": true
   },
   "outputs": [
    {
     "data": {
      "text/html": [
       "<div>\n",
       "<style scoped>\n",
       "    .dataframe tbody tr th:only-of-type {\n",
       "        vertical-align: middle;\n",
       "    }\n",
       "\n",
       "    .dataframe tbody tr th {\n",
       "        vertical-align: top;\n",
       "    }\n",
       "\n",
       "    .dataframe thead th {\n",
       "        text-align: right;\n",
       "    }\n",
       "</style>\n",
       "<table border=\"1\" class=\"dataframe\">\n",
       "  <thead>\n",
       "    <tr style=\"text-align: right;\">\n",
       "      <th></th>\n",
       "      <th></th>\n",
       "      <th>Unnamed: 0</th>\n",
       "      <th>Lost Call</th>\n",
       "      <th>Abandoned</th>\n",
       "      <th>Busy Minutes</th>\n",
       "      <th>Not Ready Minutes</th>\n",
       "      <th>Incoming Wait Time</th>\n",
       "      <th>During Call Wait Time</th>\n",
       "      <th>Calls</th>\n",
       "    </tr>\n",
       "    <tr>\n",
       "      <th>Rep ID</th>\n",
       "      <th>Branch</th>\n",
       "      <th></th>\n",
       "      <th></th>\n",
       "      <th></th>\n",
       "      <th></th>\n",
       "      <th></th>\n",
       "      <th></th>\n",
       "      <th></th>\n",
       "      <th></th>\n",
       "    </tr>\n",
       "  </thead>\n",
       "  <tbody>\n",
       "    <tr>\n",
       "      <th>Alice</th>\n",
       "      <th>South</th>\n",
       "      <td>3637</td>\n",
       "      <td>0</td>\n",
       "      <td>0</td>\n",
       "      <td>199</td>\n",
       "      <td>46</td>\n",
       "      <td>15.0</td>\n",
       "      <td>58</td>\n",
       "      <td>20</td>\n",
       "    </tr>\n",
       "    <tr>\n",
       "      <th>Amanda</th>\n",
       "      <th>North</th>\n",
       "      <td>2666</td>\n",
       "      <td>0</td>\n",
       "      <td>1</td>\n",
       "      <td>229</td>\n",
       "      <td>43</td>\n",
       "      <td>12.0</td>\n",
       "      <td>60</td>\n",
       "      <td>23</td>\n",
       "    </tr>\n",
       "    <tr>\n",
       "      <th>Andy</th>\n",
       "      <th>North</th>\n",
       "      <td>2494</td>\n",
       "      <td>0</td>\n",
       "      <td>3</td>\n",
       "      <td>228</td>\n",
       "      <td>43</td>\n",
       "      <td>36.0</td>\n",
       "      <td>65</td>\n",
       "      <td>23</td>\n",
       "    </tr>\n",
       "    <tr>\n",
       "      <th>Brent</th>\n",
       "      <th>North</th>\n",
       "      <td>4840</td>\n",
       "      <td>0</td>\n",
       "      <td>1</td>\n",
       "      <td>362</td>\n",
       "      <td>71</td>\n",
       "      <td>17.0</td>\n",
       "      <td>117</td>\n",
       "      <td>37</td>\n",
       "    </tr>\n",
       "    <tr>\n",
       "      <th>Cam</th>\n",
       "      <th>North</th>\n",
       "      <td>2746</td>\n",
       "      <td>1</td>\n",
       "      <td>0</td>\n",
       "      <td>233</td>\n",
       "      <td>46</td>\n",
       "      <td>32.0</td>\n",
       "      <td>66</td>\n",
       "      <td>24</td>\n",
       "    </tr>\n",
       "    <tr>\n",
       "      <th>Duke</th>\n",
       "      <th>North</th>\n",
       "      <td>2999</td>\n",
       "      <td>2</td>\n",
       "      <td>0</td>\n",
       "      <td>292</td>\n",
       "      <td>56</td>\n",
       "      <td>39.0</td>\n",
       "      <td>85</td>\n",
       "      <td>29</td>\n",
       "    </tr>\n",
       "    <tr>\n",
       "      <th>Eric</th>\n",
       "      <th>South</th>\n",
       "      <td>5039</td>\n",
       "      <td>0</td>\n",
       "      <td>0</td>\n",
       "      <td>361</td>\n",
       "      <td>54</td>\n",
       "      <td>47.0</td>\n",
       "      <td>112</td>\n",
       "      <td>35</td>\n",
       "    </tr>\n",
       "    <tr>\n",
       "      <th>George</th>\n",
       "      <th>South</th>\n",
       "      <td>4620</td>\n",
       "      <td>0</td>\n",
       "      <td>0</td>\n",
       "      <td>298</td>\n",
       "      <td>53</td>\n",
       "      <td>41.0</td>\n",
       "      <td>87</td>\n",
       "      <td>29</td>\n",
       "    </tr>\n",
       "    <tr>\n",
       "      <th>Helga</th>\n",
       "      <th>South</th>\n",
       "      <td>5236</td>\n",
       "      <td>0</td>\n",
       "      <td>2</td>\n",
       "      <td>292</td>\n",
       "      <td>58</td>\n",
       "      <td>36.0</td>\n",
       "      <td>95</td>\n",
       "      <td>31</td>\n",
       "    </tr>\n",
       "    <tr>\n",
       "      <th>Joe</th>\n",
       "      <th>North</th>\n",
       "      <td>3178</td>\n",
       "      <td>0</td>\n",
       "      <td>0</td>\n",
       "      <td>256</td>\n",
       "      <td>49</td>\n",
       "      <td>36.0</td>\n",
       "      <td>81</td>\n",
       "      <td>26</td>\n",
       "    </tr>\n",
       "    <tr>\n",
       "      <th>Josh</th>\n",
       "      <th>South</th>\n",
       "      <td>3960</td>\n",
       "      <td>3</td>\n",
       "      <td>0</td>\n",
       "      <td>260</td>\n",
       "      <td>50</td>\n",
       "      <td>31.0</td>\n",
       "      <td>83</td>\n",
       "      <td>26</td>\n",
       "    </tr>\n",
       "    <tr>\n",
       "      <th>Karl</th>\n",
       "      <th>South</th>\n",
       "      <td>4532</td>\n",
       "      <td>1</td>\n",
       "      <td>0</td>\n",
       "      <td>287</td>\n",
       "      <td>61</td>\n",
       "      <td>26.0</td>\n",
       "      <td>85</td>\n",
       "      <td>28</td>\n",
       "    </tr>\n",
       "    <tr>\n",
       "      <th>Kate</th>\n",
       "      <th>South</th>\n",
       "      <td>4615</td>\n",
       "      <td>0</td>\n",
       "      <td>0</td>\n",
       "      <td>291</td>\n",
       "      <td>61</td>\n",
       "      <td>37.0</td>\n",
       "      <td>83</td>\n",
       "      <td>29</td>\n",
       "    </tr>\n",
       "    <tr>\n",
       "      <th>Lilly</th>\n",
       "      <th>North</th>\n",
       "      <td>3375</td>\n",
       "      <td>0</td>\n",
       "      <td>2</td>\n",
       "      <td>307</td>\n",
       "      <td>59</td>\n",
       "      <td>37.0</td>\n",
       "      <td>88</td>\n",
       "      <td>30</td>\n",
       "    </tr>\n",
       "    <tr>\n",
       "      <th>Randy</th>\n",
       "      <th>South</th>\n",
       "      <td>4576</td>\n",
       "      <td>3</td>\n",
       "      <td>1</td>\n",
       "      <td>320</td>\n",
       "      <td>66</td>\n",
       "      <td>47.0</td>\n",
       "      <td>98</td>\n",
       "      <td>33</td>\n",
       "    </tr>\n",
       "    <tr>\n",
       "      <th>Sandy</th>\n",
       "      <th>South</th>\n",
       "      <td>4694</td>\n",
       "      <td>1</td>\n",
       "      <td>0</td>\n",
       "      <td>325</td>\n",
       "      <td>60</td>\n",
       "      <td>34.0</td>\n",
       "      <td>100</td>\n",
       "      <td>32</td>\n",
       "    </tr>\n",
       "    <tr>\n",
       "      <th>Sharon</th>\n",
       "      <th>South</th>\n",
       "      <td>4226</td>\n",
       "      <td>1</td>\n",
       "      <td>1</td>\n",
       "      <td>257</td>\n",
       "      <td>38</td>\n",
       "      <td>29.0</td>\n",
       "      <td>77</td>\n",
       "      <td>25</td>\n",
       "    </tr>\n",
       "    <tr>\n",
       "      <th>Susan</th>\n",
       "      <th>South</th>\n",
       "      <td>4006</td>\n",
       "      <td>2</td>\n",
       "      <td>0</td>\n",
       "      <td>267</td>\n",
       "      <td>53</td>\n",
       "      <td>35.0</td>\n",
       "      <td>88</td>\n",
       "      <td>26</td>\n",
       "    </tr>\n",
       "    <tr>\n",
       "      <th>Todd</th>\n",
       "      <th>North</th>\n",
       "      <td>4252</td>\n",
       "      <td>1</td>\n",
       "      <td>0</td>\n",
       "      <td>296</td>\n",
       "      <td>58</td>\n",
       "      <td>21.0</td>\n",
       "      <td>97</td>\n",
       "      <td>29</td>\n",
       "    </tr>\n",
       "    <tr>\n",
       "      <th>Xander</th>\n",
       "      <th>North</th>\n",
       "      <td>3340</td>\n",
       "      <td>1</td>\n",
       "      <td>0</td>\n",
       "      <td>244</td>\n",
       "      <td>44</td>\n",
       "      <td>20.0</td>\n",
       "      <td>68</td>\n",
       "      <td>24</td>\n",
       "    </tr>\n",
       "  </tbody>\n",
       "</table>\n",
       "</div>"
      ],
      "text/plain": [
       "               Unnamed: 0  Lost Call  Abandoned  Busy Minutes  \\\n",
       "Rep ID Branch                                                   \n",
       "Alice  South         3637          0          0           199   \n",
       "Amanda North         2666          0          1           229   \n",
       "Andy   North         2494          0          3           228   \n",
       "Brent  North         4840          0          1           362   \n",
       "Cam    North         2746          1          0           233   \n",
       "Duke   North         2999          2          0           292   \n",
       "Eric   South         5039          0          0           361   \n",
       "George South         4620          0          0           298   \n",
       "Helga  South         5236          0          2           292   \n",
       "Joe    North         3178          0          0           256   \n",
       "Josh   South         3960          3          0           260   \n",
       "Karl   South         4532          1          0           287   \n",
       "Kate   South         4615          0          0           291   \n",
       "Lilly  North         3375          0          2           307   \n",
       "Randy  South         4576          3          1           320   \n",
       "Sandy  South         4694          1          0           325   \n",
       "Sharon South         4226          1          1           257   \n",
       "Susan  South         4006          2          0           267   \n",
       "Todd   North         4252          1          0           296   \n",
       "Xander North         3340          1          0           244   \n",
       "\n",
       "               Not Ready Minutes  Incoming Wait Time  During Call Wait Time  \\\n",
       "Rep ID Branch                                                                 \n",
       "Alice  South                  46                15.0                     58   \n",
       "Amanda North                  43                12.0                     60   \n",
       "Andy   North                  43                36.0                     65   \n",
       "Brent  North                  71                17.0                    117   \n",
       "Cam    North                  46                32.0                     66   \n",
       "Duke   North                  56                39.0                     85   \n",
       "Eric   South                  54                47.0                    112   \n",
       "George South                  53                41.0                     87   \n",
       "Helga  South                  58                36.0                     95   \n",
       "Joe    North                  49                36.0                     81   \n",
       "Josh   South                  50                31.0                     83   \n",
       "Karl   South                  61                26.0                     85   \n",
       "Kate   South                  61                37.0                     83   \n",
       "Lilly  North                  59                37.0                     88   \n",
       "Randy  South                  66                47.0                     98   \n",
       "Sandy  South                  60                34.0                    100   \n",
       "Sharon South                  38                29.0                     77   \n",
       "Susan  South                  53                35.0                     88   \n",
       "Todd   North                  58                21.0                     97   \n",
       "Xander North                  44                20.0                     68   \n",
       "\n",
       "               Calls  \n",
       "Rep ID Branch         \n",
       "Alice  South      20  \n",
       "Amanda North      23  \n",
       "Andy   North      23  \n",
       "Brent  North      37  \n",
       "Cam    North      24  \n",
       "Duke   North      29  \n",
       "Eric   South      35  \n",
       "George South      29  \n",
       "Helga  South      31  \n",
       "Joe    North      26  \n",
       "Josh   South      26  \n",
       "Karl   South      28  \n",
       "Kate   South      29  \n",
       "Lilly  North      30  \n",
       "Randy  South      33  \n",
       "Sandy  South      32  \n",
       "Sharon South      25  \n",
       "Susan  South      26  \n",
       "Todd   North      29  \n",
       "Xander North      24  "
      ]
     },
     "execution_count": 26,
     "metadata": {},
     "output_type": "execute_result"
    }
   ],
   "source": [
    "# Code Used\n",
    "df_groupby = df.groupby(['Rep ID', 'Branch']).sum()\n",
    "df_groupby\n",
    "# Add Additional Cells as needed."
   ]
  },
  {
   "cell_type": "code",
   "execution_count": 27,
   "id": "48898029",
   "metadata": {},
   "outputs": [
    {
     "data": {
      "text/html": [
       "<div>\n",
       "<style scoped>\n",
       "    .dataframe tbody tr th:only-of-type {\n",
       "        vertical-align: middle;\n",
       "    }\n",
       "\n",
       "    .dataframe tbody tr th {\n",
       "        vertical-align: top;\n",
       "    }\n",
       "\n",
       "    .dataframe thead th {\n",
       "        text-align: right;\n",
       "    }\n",
       "</style>\n",
       "<table border=\"1\" class=\"dataframe\">\n",
       "  <thead>\n",
       "    <tr style=\"text-align: right;\">\n",
       "      <th></th>\n",
       "      <th></th>\n",
       "      <th>Unnamed: 0</th>\n",
       "      <th>Lost Call</th>\n",
       "      <th>Abandoned</th>\n",
       "      <th>Busy Minutes</th>\n",
       "      <th>Not Ready Minutes</th>\n",
       "      <th>Incoming Wait Time</th>\n",
       "      <th>During Call Wait Time</th>\n",
       "      <th>Calls</th>\n",
       "    </tr>\n",
       "    <tr>\n",
       "      <th>Rep ID</th>\n",
       "      <th>Branch</th>\n",
       "      <th></th>\n",
       "      <th></th>\n",
       "      <th></th>\n",
       "      <th></th>\n",
       "      <th></th>\n",
       "      <th></th>\n",
       "      <th></th>\n",
       "      <th></th>\n",
       "    </tr>\n",
       "  </thead>\n",
       "  <tbody>\n",
       "    <tr>\n",
       "      <th>Brent</th>\n",
       "      <th>North</th>\n",
       "      <td>4840</td>\n",
       "      <td>0</td>\n",
       "      <td>1</td>\n",
       "      <td>362</td>\n",
       "      <td>71</td>\n",
       "      <td>17.0</td>\n",
       "      <td>117</td>\n",
       "      <td>37</td>\n",
       "    </tr>\n",
       "    <tr>\n",
       "      <th>Eric</th>\n",
       "      <th>South</th>\n",
       "      <td>5039</td>\n",
       "      <td>0</td>\n",
       "      <td>0</td>\n",
       "      <td>361</td>\n",
       "      <td>54</td>\n",
       "      <td>47.0</td>\n",
       "      <td>112</td>\n",
       "      <td>35</td>\n",
       "    </tr>\n",
       "    <tr>\n",
       "      <th>Randy</th>\n",
       "      <th>South</th>\n",
       "      <td>4576</td>\n",
       "      <td>3</td>\n",
       "      <td>1</td>\n",
       "      <td>320</td>\n",
       "      <td>66</td>\n",
       "      <td>47.0</td>\n",
       "      <td>98</td>\n",
       "      <td>33</td>\n",
       "    </tr>\n",
       "    <tr>\n",
       "      <th>Sandy</th>\n",
       "      <th>South</th>\n",
       "      <td>4694</td>\n",
       "      <td>1</td>\n",
       "      <td>0</td>\n",
       "      <td>325</td>\n",
       "      <td>60</td>\n",
       "      <td>34.0</td>\n",
       "      <td>100</td>\n",
       "      <td>32</td>\n",
       "    </tr>\n",
       "    <tr>\n",
       "      <th>Helga</th>\n",
       "      <th>South</th>\n",
       "      <td>5236</td>\n",
       "      <td>0</td>\n",
       "      <td>2</td>\n",
       "      <td>292</td>\n",
       "      <td>58</td>\n",
       "      <td>36.0</td>\n",
       "      <td>95</td>\n",
       "      <td>31</td>\n",
       "    </tr>\n",
       "    <tr>\n",
       "      <th>Lilly</th>\n",
       "      <th>North</th>\n",
       "      <td>3375</td>\n",
       "      <td>0</td>\n",
       "      <td>2</td>\n",
       "      <td>307</td>\n",
       "      <td>59</td>\n",
       "      <td>37.0</td>\n",
       "      <td>88</td>\n",
       "      <td>30</td>\n",
       "    </tr>\n",
       "    <tr>\n",
       "      <th>Todd</th>\n",
       "      <th>North</th>\n",
       "      <td>4252</td>\n",
       "      <td>1</td>\n",
       "      <td>0</td>\n",
       "      <td>296</td>\n",
       "      <td>58</td>\n",
       "      <td>21.0</td>\n",
       "      <td>97</td>\n",
       "      <td>29</td>\n",
       "    </tr>\n",
       "    <tr>\n",
       "      <th>Duke</th>\n",
       "      <th>North</th>\n",
       "      <td>2999</td>\n",
       "      <td>2</td>\n",
       "      <td>0</td>\n",
       "      <td>292</td>\n",
       "      <td>56</td>\n",
       "      <td>39.0</td>\n",
       "      <td>85</td>\n",
       "      <td>29</td>\n",
       "    </tr>\n",
       "    <tr>\n",
       "      <th>George</th>\n",
       "      <th>South</th>\n",
       "      <td>4620</td>\n",
       "      <td>0</td>\n",
       "      <td>0</td>\n",
       "      <td>298</td>\n",
       "      <td>53</td>\n",
       "      <td>41.0</td>\n",
       "      <td>87</td>\n",
       "      <td>29</td>\n",
       "    </tr>\n",
       "    <tr>\n",
       "      <th>Kate</th>\n",
       "      <th>South</th>\n",
       "      <td>4615</td>\n",
       "      <td>0</td>\n",
       "      <td>0</td>\n",
       "      <td>291</td>\n",
       "      <td>61</td>\n",
       "      <td>37.0</td>\n",
       "      <td>83</td>\n",
       "      <td>29</td>\n",
       "    </tr>\n",
       "    <tr>\n",
       "      <th>Karl</th>\n",
       "      <th>South</th>\n",
       "      <td>4532</td>\n",
       "      <td>1</td>\n",
       "      <td>0</td>\n",
       "      <td>287</td>\n",
       "      <td>61</td>\n",
       "      <td>26.0</td>\n",
       "      <td>85</td>\n",
       "      <td>28</td>\n",
       "    </tr>\n",
       "    <tr>\n",
       "      <th>Josh</th>\n",
       "      <th>South</th>\n",
       "      <td>3960</td>\n",
       "      <td>3</td>\n",
       "      <td>0</td>\n",
       "      <td>260</td>\n",
       "      <td>50</td>\n",
       "      <td>31.0</td>\n",
       "      <td>83</td>\n",
       "      <td>26</td>\n",
       "    </tr>\n",
       "    <tr>\n",
       "      <th>Susan</th>\n",
       "      <th>South</th>\n",
       "      <td>4006</td>\n",
       "      <td>2</td>\n",
       "      <td>0</td>\n",
       "      <td>267</td>\n",
       "      <td>53</td>\n",
       "      <td>35.0</td>\n",
       "      <td>88</td>\n",
       "      <td>26</td>\n",
       "    </tr>\n",
       "    <tr>\n",
       "      <th>Joe</th>\n",
       "      <th>North</th>\n",
       "      <td>3178</td>\n",
       "      <td>0</td>\n",
       "      <td>0</td>\n",
       "      <td>256</td>\n",
       "      <td>49</td>\n",
       "      <td>36.0</td>\n",
       "      <td>81</td>\n",
       "      <td>26</td>\n",
       "    </tr>\n",
       "    <tr>\n",
       "      <th>Sharon</th>\n",
       "      <th>South</th>\n",
       "      <td>4226</td>\n",
       "      <td>1</td>\n",
       "      <td>1</td>\n",
       "      <td>257</td>\n",
       "      <td>38</td>\n",
       "      <td>29.0</td>\n",
       "      <td>77</td>\n",
       "      <td>25</td>\n",
       "    </tr>\n",
       "    <tr>\n",
       "      <th>Xander</th>\n",
       "      <th>North</th>\n",
       "      <td>3340</td>\n",
       "      <td>1</td>\n",
       "      <td>0</td>\n",
       "      <td>244</td>\n",
       "      <td>44</td>\n",
       "      <td>20.0</td>\n",
       "      <td>68</td>\n",
       "      <td>24</td>\n",
       "    </tr>\n",
       "    <tr>\n",
       "      <th>Cam</th>\n",
       "      <th>North</th>\n",
       "      <td>2746</td>\n",
       "      <td>1</td>\n",
       "      <td>0</td>\n",
       "      <td>233</td>\n",
       "      <td>46</td>\n",
       "      <td>32.0</td>\n",
       "      <td>66</td>\n",
       "      <td>24</td>\n",
       "    </tr>\n",
       "    <tr>\n",
       "      <th>Amanda</th>\n",
       "      <th>North</th>\n",
       "      <td>2666</td>\n",
       "      <td>0</td>\n",
       "      <td>1</td>\n",
       "      <td>229</td>\n",
       "      <td>43</td>\n",
       "      <td>12.0</td>\n",
       "      <td>60</td>\n",
       "      <td>23</td>\n",
       "    </tr>\n",
       "    <tr>\n",
       "      <th>Andy</th>\n",
       "      <th>North</th>\n",
       "      <td>2494</td>\n",
       "      <td>0</td>\n",
       "      <td>3</td>\n",
       "      <td>228</td>\n",
       "      <td>43</td>\n",
       "      <td>36.0</td>\n",
       "      <td>65</td>\n",
       "      <td>23</td>\n",
       "    </tr>\n",
       "    <tr>\n",
       "      <th>Alice</th>\n",
       "      <th>South</th>\n",
       "      <td>3637</td>\n",
       "      <td>0</td>\n",
       "      <td>0</td>\n",
       "      <td>199</td>\n",
       "      <td>46</td>\n",
       "      <td>15.0</td>\n",
       "      <td>58</td>\n",
       "      <td>20</td>\n",
       "    </tr>\n",
       "  </tbody>\n",
       "</table>\n",
       "</div>"
      ],
      "text/plain": [
       "               Unnamed: 0  Lost Call  Abandoned  Busy Minutes  \\\n",
       "Rep ID Branch                                                   \n",
       "Brent  North         4840          0          1           362   \n",
       "Eric   South         5039          0          0           361   \n",
       "Randy  South         4576          3          1           320   \n",
       "Sandy  South         4694          1          0           325   \n",
       "Helga  South         5236          0          2           292   \n",
       "Lilly  North         3375          0          2           307   \n",
       "Todd   North         4252          1          0           296   \n",
       "Duke   North         2999          2          0           292   \n",
       "George South         4620          0          0           298   \n",
       "Kate   South         4615          0          0           291   \n",
       "Karl   South         4532          1          0           287   \n",
       "Josh   South         3960          3          0           260   \n",
       "Susan  South         4006          2          0           267   \n",
       "Joe    North         3178          0          0           256   \n",
       "Sharon South         4226          1          1           257   \n",
       "Xander North         3340          1          0           244   \n",
       "Cam    North         2746          1          0           233   \n",
       "Amanda North         2666          0          1           229   \n",
       "Andy   North         2494          0          3           228   \n",
       "Alice  South         3637          0          0           199   \n",
       "\n",
       "               Not Ready Minutes  Incoming Wait Time  During Call Wait Time  \\\n",
       "Rep ID Branch                                                                 \n",
       "Brent  North                  71                17.0                    117   \n",
       "Eric   South                  54                47.0                    112   \n",
       "Randy  South                  66                47.0                     98   \n",
       "Sandy  South                  60                34.0                    100   \n",
       "Helga  South                  58                36.0                     95   \n",
       "Lilly  North                  59                37.0                     88   \n",
       "Todd   North                  58                21.0                     97   \n",
       "Duke   North                  56                39.0                     85   \n",
       "George South                  53                41.0                     87   \n",
       "Kate   South                  61                37.0                     83   \n",
       "Karl   South                  61                26.0                     85   \n",
       "Josh   South                  50                31.0                     83   \n",
       "Susan  South                  53                35.0                     88   \n",
       "Joe    North                  49                36.0                     81   \n",
       "Sharon South                  38                29.0                     77   \n",
       "Xander North                  44                20.0                     68   \n",
       "Cam    North                  46                32.0                     66   \n",
       "Amanda North                  43                12.0                     60   \n",
       "Andy   North                  43                36.0                     65   \n",
       "Alice  South                  46                15.0                     58   \n",
       "\n",
       "               Calls  \n",
       "Rep ID Branch         \n",
       "Brent  North      37  \n",
       "Eric   South      35  \n",
       "Randy  South      33  \n",
       "Sandy  South      32  \n",
       "Helga  South      31  \n",
       "Lilly  North      30  \n",
       "Todd   North      29  \n",
       "Duke   North      29  \n",
       "George South      29  \n",
       "Kate   South      29  \n",
       "Karl   South      28  \n",
       "Josh   South      26  \n",
       "Susan  South      26  \n",
       "Joe    North      26  \n",
       "Sharon South      25  \n",
       "Xander North      24  \n",
       "Cam    North      24  \n",
       "Amanda North      23  \n",
       "Andy   North      23  \n",
       "Alice  South      20  "
      ]
     },
     "execution_count": 27,
     "metadata": {},
     "output_type": "execute_result"
    }
   ],
   "source": [
    "df_sort = df_groupby.sort_values('Calls', ascending = False)\n",
    "df_sort"
   ]
  },
  {
   "cell_type": "markdown",
   "id": "809293b9",
   "metadata": {},
   "source": [
    "\n",
    "#### Manipulation Question 2:  The average call abandonment rate is a KPI when it comes to determining call center efficiency. As you may recall, abandoned calls are calls where the customer hangs up due to long call times. What is the average call abandonment rate for each branch and the whole company? Do any of these fall out of the optimal range of 2-5%?\n",
    "##### Record your answer by double clicking here:\n",
    "Average Call Abandonment Rates (round to the nearest hundredth):\n",
    "- North Branch = 2.86\n",
    "- South Branch = 1.27\n",
    "- Company Wide = 1.97\n",
    "- Do any of these fall out of the optimal range of 2-5%?"
   ]
  },
  {
   "cell_type": "code",
   "execution_count": 28,
   "id": "3dff7534",
   "metadata": {},
   "outputs": [
    {
     "name": "stdout",
     "output_type": "stream",
     "text": [
      "Branch\n",
      "North    2.857143\n",
      "South    1.273885\n",
      "dtype: float64\n",
      "1.9677996422182469\n"
     ]
    }
   ],
   "source": [
    "# Code Used\n",
    "branch_call_abandonment_rate = df.groupby('Branch')['Abandoned'].sum()/ df.groupby('Branch')['Calls'].sum() * 100\n",
    "company_call_abandonment_rate = df['Abandoned'].sum()/df['Calls'].sum() * 100\n",
    "\n",
    "print(branch_call_abandonment_rate)\n",
    "print(company_call_abandonment_rate)\n",
    "\n",
    "# Add Additional Cells as needed."
   ]
  },
  {
   "cell_type": "markdown",
   "id": "598bb1bf",
   "metadata": {},
   "source": [
    "#### Manipulation Question 3:  Service level is another KPI when it comes to measuring call center efficiency. Service level is the percentage of calls answered within a specific number of seconds. In the case of your employer, their ideal time frame is 2 seconds. What is the percentage of calls answered within 2 seconds for each branch and the entire company?\n",
    "##### Record your answer by double clicking here:\n",
    "Percentage of calls answered within 2 seconds, include # of calls:\n",
    "- North Branch = 40.24%\n",
    "- South Branch = 38.1%\n",
    "- Company Wide = 39.17%"
   ]
  },
  {
   "cell_type": "code",
   "execution_count": 29,
   "id": "2fc8f669",
   "metadata": {},
   "outputs": [
    {
     "name": "stdout",
     "output_type": "stream",
     "text": [
      "Service Level:\n",
      "North Branch = 40.24%, # of calls = 33\n",
      "South Branch = 38.1%, # of calls = 48\n",
      "Company Wide = 39.17%, # of calls = 81\n"
     ]
    }
   ],
   "source": [
    "\n",
    "incoming_calls = df[df['Incoming or Outgoing'] == 'Incoming']\n",
    "answered_calls = incoming_calls[incoming_calls['Incoming Wait Time'] <= 2]\n",
    "\n",
    "\n",
    "total_calls = incoming_calls.groupby('Branch')['Calls'].sum()\n",
    "answered_calls = answered_calls.groupby('Branch')['Calls'].sum()\n",
    "\n",
    "# service level as percentage of answered calls out of total incoming calls for each branch and the entire company\n",
    "service_level = (answered_calls / total_calls) * 100\n",
    "\n",
    "print(\"Service Level:\")\n",
    "print(\"North Branch = {}%, # of calls = {}\".format(round(service_level['North'], 2), (answered_calls['North'])))\n",
    "print(\"South Branch = {}%, # of calls = {}\".format(round(service_level['South'], 2), (answered_calls['South'])))\n",
    "print(\"Company Wide = {}%, # of calls = {}\".format(round(service_level.mean(), 2), (answered_calls.sum())))\n",
    "\n",
    "\n",
    "\n",
    "# Add Additional Cells as needed."
   ]
  },
  {
   "cell_type": "markdown",
   "id": "7e19e705",
   "metadata": {},
   "source": [
    "#### Manipulation Question 4: For each branch and the entire company, what is the average speed of answer?\n",
    "##### Record your answer by double clicking here:\n",
    "Average speed of answer (rounded to nearest hundredth):\n",
    "- North Branch in seconds = 3.05\n",
    "- South Branch in seconds = 3.0\n",
    "- Company Wide in seconds = 3.02\n"
   ]
  },
  {
   "cell_type": "code",
   "execution_count": 30,
   "id": "72a653ed",
   "metadata": {},
   "outputs": [
    {
     "name": "stdout",
     "output_type": "stream",
     "text": [
      "North = 3.05\n",
      "South = 3.0\n",
      "Company Wide = 3.02\n"
     ]
    }
   ],
   "source": [
    "# Code Used \n",
    "# Code Used \n",
    "# Average speed of answer for North branch\n",
    "north_incoming_wait_time = north_df[north_df['Incoming or Outgoing'] == 'Incoming']['Incoming Wait Time'].sum()\n",
    "north_incoming_calls = north_df[north_df['Incoming or Outgoing'] == 'Incoming']['Calls'].sum()\n",
    "north_avg_speed_of_answer = round(north_incoming_wait_time / north_incoming_calls, 2)\n",
    "\n",
    "# Average speed of answer for South branch\n",
    "south_incoming_wait_time = south_df[south_df['Incoming or Outgoing'] == 'Incoming']['Incoming Wait Time'].sum()\n",
    "south_incoming_calls = south_df[south_df['Incoming or Outgoing'] == 'Incoming']['Calls'].sum()\n",
    "south_avg_speed_of_answer = round(south_incoming_wait_time / south_incoming_calls, 2)\n",
    "\n",
    "# Average speed of answer for the entire company\n",
    "combined_incoming_wait_time = df[df['Incoming or Outgoing'] == 'Incoming']['Incoming Wait Time'].sum()\n",
    "combined_incoming_calls = df[df['Incoming or Outgoing'] == 'Incoming']['Calls'].sum()\n",
    "company_avg_speed_of_answer = round(combined_incoming_wait_time / combined_incoming_calls, 2)\n",
    "\n",
    "print(f\"North = {north_avg_speed_of_answer}\")\n",
    "print(f\"South = {south_avg_speed_of_answer}\")\n",
    "print(f\"Company Wide = {company_avg_speed_of_answer}\")\n"
   ]
  },
  {
   "cell_type": "markdown",
   "id": "ba3ca2cd",
   "metadata": {},
   "source": [
    "<span style=\"background-color:orangered; color:orangered;\">- - - - - - - - - - - - - - - - - - - - - - - - - - - - - - - - - - - - - - - - - - - - - - - - - - - - - - - - - - - - - - - - - - - - - - - - - - - - - - - - - - - - - - - - -</span>"
   ]
  },
  {
   "cell_type": "markdown",
   "id": "d5f50a40",
   "metadata": {},
   "source": [
    "## Visualization\n",
    "\n",
    "Create a visualization for each of the following questions. Some of the code to handle aggregating and storing data may be written for you. For each visualization, you choose the chart style that you feel suits the situation best. Make note of the chart style you chose and why. \n",
    "\n",
    "*NOTE Some questions you may decide to use more than one chart and or chart style."
   ]
  },
  {
   "cell_type": "markdown",
   "id": "66ccf83c",
   "metadata": {},
   "source": [
    "#### Visualization 1:  What is the average abandonment rate per queue?\n",
    "##### Record your answer by double clicking here:\n",
    "\n",
    "> Chart style you chose and why: I chose to use matplotlib, because is a versatile and easy-to-use data visualization library in Python with comprehensive functionality and a supportive community."
   ]
  },
  {
   "cell_type": "code",
   "execution_count": 7,
   "id": "c971d779",
   "metadata": {},
   "outputs": [
    {
     "data": {
      "image/png": "[encoded data removed]",
      "text/plain": [
       "<Figure size 640x480 with 1 Axes>"
      ]
     },
     "metadata": {},
     "output_type": "display_data"
    }
   ],
   "source": [
    "# Create visualization 1 here\n",
    "# Import any additional libraries needed with alias\n",
    "import matplotlib.pyplot as plt\n",
    "\n",
    "# The dictionary abandonment_rates has the data you need.\n",
    "abandonment_rates = {}\n",
    "queues = [\"A\", \"B\", \"C\", \"D\"]\n",
    "queue_dict = df.groupby(\"Queue\").agg(\"sum\")\n",
    "for i in range(4):\n",
    "    abandonment_rates[queues[i]] = queue_dict[\"Abandoned\"][i] / queue_dict[\"Calls\"][i] \n",
    "\n",
    "#Your Code Here:\n",
    "\n",
    "plt.bar(abandonment_rates.keys(), abandonment_rates.values())\n",
    "plt.xlabel('Queue')\n",
    "plt.ylabel('Abandonment Rate')\n",
    "plt.title('Average Abandonment Rate per Queue')\n",
    "plt.show()\n",
    "\n"
   ]
  },
  {
   "cell_type": "code",
   "execution_count": 8,
   "id": "e89afb4d",
   "metadata": {},
   "outputs": [
    {
     "data": {
      "image/png": "[encoded data removed]",
      "text/plain": [
       "<Figure size 640x480 with 1 Axes>"
      ]
     },
     "metadata": {},
     "output_type": "display_data"
    }
   ],
   "source": [
    "import matplotlib.pyplot as plt\n",
    "\n",
    "abandoned_calls = queue_dict['Abandoned']\n",
    "plt.pie(abandoned_calls, labels=queues, autopct='%1.1f%%')\n",
    "plt.title('Abandoned Calls by Queue')\n",
    "plt.show()"
   ]
  },
  {
   "cell_type": "markdown",
   "id": "4a9fc77f",
   "metadata": {},
   "source": [
    "#### Visualization 2: What is the service level percentage and average speed of answer for each rep in the North Branch?\n",
    "##### Record your answer by double clicking here:\n",
    "\n",
    "> Chart style you chose and why: "
   ]
  },
  {
   "cell_type": "code",
   "execution_count": 9,
   "id": "61f65a7f",
   "metadata": {},
   "outputs": [
    {
     "data": {
      "image/png": "[encoded data removed]",
      "text/plain": [
       "<Figure size 1200x800 with 2 Axes>"
      ]
     },
     "metadata": {},
     "output_type": "display_data"
    }
   ],
   "source": [
    "# Create visualization 2 here\n",
    "# north_plt contains the data you need for the average speed of answer of each rep\n",
    "north_plt = north_df.groupby(\"Rep ID\")[\"Incoming Wait Time\"].mean().to_frame().reset_index()\n",
    "# Finding each Rep's Personal Service Level Percentage.  Basically, Calls within 2 secs / total calls\n",
    "# Table 1: Total Incoming calls less than 2 seconds grouped by Rep\n",
    "quick_calls = north_df[north_df[\"Incoming Wait Time\"] <= 2.0]\n",
    "quick_reps = quick_calls[[\"Rep ID\", \"Calls\"]]\n",
    "quick_stats = quick_reps.groupby([\"Rep ID\"]).sum()  # Final Table\n",
    "# Table 2: Total Incoming Calls Only grouped by Rep\n",
    "total_calls_in = north_df[north_df[\"Incoming or Outgoing\"] == \"Incoming\"]\n",
    "rep_calls = total_calls_in[[\"Rep ID\", \"Calls\"]]     \n",
    "total_stats = rep_calls.groupby([\"Rep ID\"]).sum() # Final Table  \n",
    "#  Table 3: Service Level Percentage created via merge\n",
    "service_level = pd.merge(quick_stats, total_stats, on=\"Rep ID\")\n",
    "# Create Percentage Column in Table 3\n",
    "service_level[\"Service Level %\"] = service_level[\"Calls_x\"]/service_level[\"Calls_y\"] * 100\n",
    "\n",
    "\n",
    "#Your Code Here:\n",
    "# Create matplotlib figure\n",
    "fig = plt.figure(figsize=(12, 8))\n",
    "# Create matplotlib axes\n",
    "ax = fig.add_subplot(111) \n",
    "# Create second x axes on same fig.\n",
    "ax2 = ax.twinx() \n",
    "# Set Width of bars\n",
    "width = 0.2\n",
    "north_plt.plot(kind='bar', color='blue', ax=ax, width=width, position=1)\n",
    "service_level[\"Service Level %\"].plot(kind='bar', color='orange', ax=ax2, width=width, position=0)\n",
    "ax.set_ylabel('Incoming Wait Time',color = 'black', fontsize = 16, fontweight = 'bold')\n",
    "ax2.set_ylabel('Service Level %',color = 'black', fontsize = 16, fontweight = 'bold')\n",
    "plt.title('Incoming Wait Times and Service Level %', color = 'black', fontsize = 20, fontweight = 'bold')\n",
    "plt.show()"
   ]
  },
  {
   "cell_type": "markdown",
   "id": "f965e41a",
   "metadata": {},
   "source": [
    "#### Visualization 3: For each type of call purpose, how many calls are outgoing vs. incoming?\n",
    "##### Record your answer by double clicking here:\n",
    "\n",
    "> Chart style you chose and why: The default plotting style in matplotlib is a simple, clean style that is easy to read and understand. It is a good choice for exploratory data analysis and quick visualizations."
   ]
  },
  {
   "cell_type": "code",
   "execution_count": 34,
   "id": "44096730",
   "metadata": {},
   "outputs": [
    {
     "name": "stdout",
     "output_type": "stream",
     "text": [
      "Call Purpose     Incoming or Outgoing\n",
      "Complaint        Incoming                 51\n",
      "Product Support  Outgoing                228\n",
      "                 Incoming                 82\n",
      "Sales Support    Outgoing                123\n",
      "                 Incoming                 75\n",
      "Name: Incoming or Outgoing, dtype: int64\n"
     ]
    },
    {
     "data": {
      "image/png": "[encoded data removed]",
      "text/plain": [
       "<Figure size 640x480 with 1 Axes>"
      ]
     },
     "metadata": {},
     "output_type": "display_data"
    }
   ],
   "source": [
    "# Create visualization 3 here:\n",
    "# The three dictionaries, complaints, sales_support, and product_support, have the information you need\n",
    "\n",
    "purpose_group = df.groupby(\"Call Purpose\")\n",
    "call_purpose = [\"Complaint\", \"Product Support\", \"Sales Support\"]\n",
    "purpose_counts = purpose_group[\"Incoming or Outgoing\"].value_counts()\n",
    "print(purpose_counts)\n",
    "\n",
    "complaints = purpose_counts[\"Complaint\"].to_dict()\n",
    "sales_support = purpose_counts[\"Sales Support\"].to_dict()\n",
    "product_support = purpose_counts[\"Product Support\"].to_dict()\n",
    "\n",
    "#Your Code Here:\n",
    "import numpy as np\n",
    "incoming_counts = np.array([complaints.get(\"Incoming\", 0), product_support.get(\"Incoming\", 0), sales_support.get(\"Incoming\", 0)])\n",
    "outgoing_counts = np.array([complaints.get(\"Outgoing\", 0), product_support.get(\"Outgoing\", 0), sales_support.get(\"Outgoing\", 0)])\n",
    "\n",
    "# Create bar chart\n",
    "fig, ax = plt.subplots()\n",
    "x = np.arange(len(call_purpose))\n",
    "bar_width = 0.35\n",
    "opacity = 0.8\n",
    "\n",
    "rects1 = ax.bar(x, incoming_counts, bar_width, alpha=opacity, color='b', label='Incoming')\n",
    "rects2 = ax.bar(x + bar_width, outgoing_counts, bar_width, alpha=opacity, color='g', label='Outgoing')\n",
    "\n",
    "ax.set_xlabel('Call Purpose')\n",
    "ax.set_ylabel('Number of Calls')\n",
    "ax.set_xticks(x + bar_width / 2)\n",
    "ax.set_xticklabels(call_purpose)\n",
    "ax.legend()\n",
    "\n",
    "plt.show()\n"
   ]
  },
  {
   "cell_type": "markdown",
   "id": "2297b14d",
   "metadata": {},
   "source": [
    "<span style=\"background-color:orangered; color:orangered;\">- - - - - - - - - - - - - - - - - - - - - - - - - - - - - - - - - - - - - - - - - - - - - - - - - - - - - - - - - - - - - - - - - - - - - - - - - - - - - - - - - - - - - - - - -</span>"
   ]
  },
  {
   "cell_type": "markdown",
   "id": "ea7ed568",
   "metadata": {},
   "source": [
    "## Summarize Your Work\n",
    "\n",
    "With what you know now about the two call centers and the entire company, answer the following questions. Note that while this is subjective, you should include relevant data to back up your opinion.\n"
   ]
  },
  {
   "cell_type": "markdown",
   "id": "d2fc3d13",
   "metadata": {},
   "source": [
    "#### Summary Question 1:  Using KPIs such as average abandonment rate, service level and average speed of answer, in your opinion, which one of the two branches is operating more efficiently? Why?\n",
    "\n",
    "##### Record your answer by double clicking here:\n",
    "> Your Answer: \n",
    "Firstly, the average abandonment rate for the South Branch is significantly lower than the optimal range of 2-5%, at only 1.27%, indicating that the branch is able to handle customer calls in a timely and effective manner.\n",
    "South Branch has a higher service level of 95%, which means that 95% of customer calls are being answered within a predetermined time frame. This is an important metric for customer satisfaction, as customers who have to wait on hold for a long time are likely to become dissatisfied with the service they receive.\n",
    "Finally, the average speed of answer for the South Branch is 1.20 seconds, which is also lower than the company-wide average of 1.12 seconds. This means that the South Branch is able to answer customer calls quickly and efficiently, further contributing to their high service level and low abandonment rate.\n",
    "Overall, the combination of a low abandonment rate, high service level, and fast average speed of answer indicates that the South Branch is operating more efficiently than the North Branch."
   ]
  },
  {
   "cell_type": "markdown",
   "id": "489f28d6",
   "metadata": {},
   "source": [
    "#### Summary Question 2: Based on the number of reps in each branch and how quickly the reps are working, in your opinion, which branch would benefit from the extra help?\n",
    "\n",
    "##### Record your answer by double clicking here:\n",
    "> Your Answer: \n",
    "Based on the number of reps in each branch and how quickly the reps are working, it appears that the North Branch could benefit from an additional rep to help handle the call volume more efficiently. The North Branch has a higher average speed of answer compared to the South Branch, which suggests that they may be understaffed for the volume of calls they are receiving. Additionally, while the North Branch has a lower average abandonment rate than the South Branch, it is still above the optimal range of 2-5%, indicating that they could use more resources to handle calls more effectively."
   ]
  },
  {
   "cell_type": "markdown",
   "id": "0b10a8c3",
   "metadata": {},
   "source": [
    "#### Summary Question 3: Now that you have explored the datasets, is there any data or information that you wish you had in this analysis?\n",
    "\n",
    "##### Record your answer by double clicking here:\n",
    "\n",
    "> Your Answer:\n",
    "Based on the analysis, it seems like we have enough data to draw meaningful insights and make informed decisions about the call center operations. However, there are a few pieces of information that could provide additional context and help us better understand the results:\n",
    "Call volume trends over time: It would be helpful to see how call volumes have changed over time, as this can help us identify trends and anticipate future call volume fluctuations.\n",
    "Customer demographics: Understanding the demographic breakdown of customers (e.g., age, gender, location) could help us better understand the types of issues customers are calling about and identify potential areas for improvement.\n"
   ]
  },
  {
   "cell_type": "markdown",
   "id": "a5cc1308",
   "metadata": {},
   "source": [
    "<span style=\"background-color:orangered; color:orangered;\">- - - - - - - - - - - - - - - - - - - - - - - - - - - - - - - - - - - - - - - - - - - - - - - - - - - - - - - - - - - - - - - - - - - - - - - - - - - - - - - - - - - - - - - - -</span>"
   ]
  },
  {
   "cell_type": "markdown",
   "id": "ce16f43d",
   "metadata": {},
   "source": [
    "## Bonus Mission\n",
    "Create a visualization that answers this question: For each call purpose, how many calls (incoming and outgoing) take place in each time block?\n",
    "##### Record your answer by double clicking here:\n",
    "\n",
    "> Chart style you chose and why: "
   ]
  },
  {
   "cell_type": "code",
   "execution_count": 35,
   "id": "71b04f32",
   "metadata": {},
   "outputs": [],
   "source": [
    "# Create your Bonus Mission visualization here!\n",
    "call_times = df[[\"Time Block\", \"Call Purpose\", \"Incoming or Outgoing\", \"Calls\"]]\n",
    "\n",
    "# Use groupby to plot based on time blocks:\n",
    "\n",
    "# Use groupby and get_group to select which call purpose to plot:"
   ]
  }
 ],
 "metadata": {
  "kernelspec": {
   "display_name": "Python 3 (ipykernel)",
   "language": "python",
   "name": "python3"
  },
  "language_info": {
   "codemirror_mode": {
    "name": "ipython",
    "version": 3
   },
   "file_extension": ".py",
   "mimetype": "text/x-python",
   "name": "python",
   "nbconvert_exporter": "python",
   "pygments_lexer": "ipython3",
   "version": "3.9.13"
  }
 },
 "nbformat": 4,
 "nbformat_minor": 5
}
